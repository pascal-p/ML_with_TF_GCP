{
 "cells": [
  {
   "cell_type": "code",
   "execution_count": null,
   "metadata": {},
   "outputs": [],
   "source": [
    "# !pip install google-cloud-bigquery==1.25.0"
   ]
  },
  {
   "cell_type": "code",
   "execution_count": null,
   "metadata": {},
   "outputs": [],
   "source": [
    "query=\"\"\"\n",
    "SELECT\n",
    "  departure_delay,\n",
    "  COUNT(1) AS num_flights,\n",
    "  APPROX_QUANTILES(arrival_delay, 10) AS arrival_delay_deciles\n",
    "FROM\n",
    "  `bigquery-samples.airline_ontime_data.flights`\n",
    "GROUP BY\n",
    "  departure_delay\n",
    "HAVING\n",
    "  num_flights > 100\n",
    "ORDER BY\n",
    "  departure_delay ASC\n",
    "\"\"\"\n",
    "from google.cloud import bigquery\n",
    "\n",
    "df = bigquery.Client().query(query).to_dataframe()\n",
    "df.head()"
   ]
  },
  {
   "cell_type": "markdown",
   "metadata": {},
   "source": [
    "What Python data structure are the deciles in?\n",
    "  - Array"
   ]
  },
  {
   "cell_type": "code",
   "execution_count": null,
   "metadata": {},
   "outputs": [],
   "source": [
    "import pandas as pd\n",
    "\n",
    "# create as many new columns as deciles in the src array from 9 to 100 by step of 10\n",
    "percentiles = df['arrival_delay_deciles'].apply(pd.Series)\n",
    "percentiles = percentiles.rename(columns = lambda x : str(x * 10) + \"%\")\n",
    "df = pd.concat([df['departure_delay'], percentiles], axis=1)\n",
    "df.head()"
   ]
  },
  {
   "cell_type": "markdown",
   "metadata": {},
   "source": [
    "departure_delay \t0% \t10% \t20% \t30% \t40% \t50% \t60% \t70% \t80% \t90% \t100%\n",
    "0 \t-37.0 \t-66.0 \t-44.0 \t-41.0 \t-35.0 \t-30.0 \t-23.0 \t-17.0 \t-12.0 \t-3.0 \t6.0 \t33.0\n",
    "1 \t-36.0 \t-74.0 \t-43.0 \t-39.0 \t-37.0 \t-32.0 \t-25.0 \t-18.0 \t-14.0 \t-7.0 \t2.0 \t49.0\n",
    "2 \t-35.0 \t-68.0 \t-45.0 \t-40.0 \t-36.0 \t-28.0 \t-19.0 \t-14.0 \t-8.0 \t-4.0 \t3.0 \t85.0\n",
    "3 \t-34.0 \t-58.0 \t-44.0 \t-40.0 \t-35.0 \t-30.0 \t-25.0 \t-19.0 \t-14.0 \t-8.0 \t2.0 \t39.0\n",
    "4 \t-33.0 \t-59.0 \t-43.0 \t-39.0 \t-36.0 \t-32.0 \t-28.0 \t-20.0 \t-14.0 \t-7.0 \t5.0 \t25.0"
   ]
  },
  {
   "cell_type": "markdown",
   "metadata": {},
   "source": [
    "What did this code do to the columns in the Pandas dataframe?\n",
    "  - create a new pandas df with only 'departure_delay' and the 10 deciles as new columns"
   ]
  },
  {
   "cell_type": "code",
   "execution_count": null,
   "metadata": {},
   "outputs": [],
   "source": [
    "without_extremes = df.drop(['0%', '100%'], 1)\n",
    "without_extremes.plot(x='departure_delay', xlim=(-30,50), ylim=(-50,50));"
   ]
  },
  {
   "cell_type": "markdown",
   "metadata": {},
   "source": [
    "If you were creating a machine learning model to predict the arrival delay of a flight, would a departure delay be a good input feature?  \n",
    "Is this true at all ranges of departure delays?"
   ]
  }
 ],
 "metadata": {
  "colab": {
   "collapsed_sections": [],
   "name": "Basic Feature Engineering in Keras.ipynb",
   "provenance": [],
   "toc_visible": true
  },
  "kernelspec": {
   "display_name": "Python 3 (ipykernel)",
   "language": "python",
   "name": "python3"
  },
  "language_info": {
   "codemirror_mode": {
    "name": "ipython",
    "version": 3
   },
   "file_extension": ".py",
   "mimetype": "text/x-python",
   "name": "python",
   "nbconvert_exporter": "python",
   "pygments_lexer": "ipython3",
   "version": "3.8.12"
  }
 },
 "nbformat": 4,
 "nbformat_minor": 4
}
