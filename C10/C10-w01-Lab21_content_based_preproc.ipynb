{
 "cells": [
  {
   "cell_type": "markdown",
   "metadata": {},
   "source": [
    "## Create datasets for the Content-based Filter\n",
    "\n",
    "This notebook builds the data we will use for creating our content based model. We'll collect the data via a collection of SQL queries from the publicly available Kurier.at dataset in BigQuery.\n",
    "Kurier.at is an Austrian newsite. The goal of these labs is to recommend an article for a visitor to the site. In this lab we collect the data for training, in the subsequent notebook we train the recommender model. \n",
    "\n",
    "This notebook illustrates\n",
    "* how to pull data from BigQuery table and write to local files\n",
    "* how to make reproducible train and test splits "
   ]
  },
  {
   "cell_type": "code",
   "execution_count": 1,
   "metadata": {},
   "outputs": [],
   "source": [
    "import os\n",
    "import tensorflow as tf\n",
    "import numpy as np\n",
    "from google.cloud import bigquery \n",
    "\n",
    "PROJECT = 'qwiklabs-gcp-01-493597224b34' # REPLACE WITH YOUR PROJECT ID\n",
    "BUCKET = 'qwiklabs-gcp-01-493597224b34' # REPLACE WITH YOUR BUCKET NAME\n",
    "REGION = 'australia-southeast1' # REPLACE WITH YOUR BUCKET REGION e.g. us-central1\n",
    "\n",
    "# do not change these\n",
    "os.environ['PROJECT'] = PROJECT\n",
    "os.environ['BUCKET'] = BUCKET\n",
    "os.environ['REGION'] = REGION\n",
    "os.environ['TFVERSION'] = '2.1'"
   ]
  },
  {
   "cell_type": "code",
   "execution_count": 2,
   "metadata": {},
   "outputs": [
    {
     "name": "stderr",
     "output_type": "stream",
     "text": [
      "Updated property [core/project].\n",
      "Updated property [compute/region].\n"
     ]
    }
   ],
   "source": [
    "%%bash\n",
    "gcloud  config  set project $PROJECT\n",
    "gcloud config set compute/region $REGION"
   ]
  },
  {
   "cell_type": "markdown",
   "metadata": {},
   "source": [
    "We will use this helper function to write lists containing article ids, categories, and authors for each article in our database to local file. "
   ]
  },
  {
   "cell_type": "code",
   "execution_count": 3,
   "metadata": {},
   "outputs": [],
   "source": [
    "def write_list_to_disk(my_list, filename):\n",
    "    with open(filename, 'w') as f:\n",
    "        for item in my_list:\n",
    "            line = \"%s\\n\" % item\n",
    "            f.write(line)"
   ]
  },
  {
   "cell_type": "markdown",
   "metadata": {},
   "source": [
    "### Pull data from BigQuery\n",
    "\n",
    "The cell below creates a local text file containing all the article ids (i.e. 'content ids') in the dataset. \n",
    "\n",
    "Have a look at the original dataset in [BigQuery](https://console.cloud.google.com/bigquery?p=cloud-training-demos&d=GA360_test&t=ga_sessions_sample). Then read through the query below and make sure you understand what it is doing. "
   ]
  },
  {
   "cell_type": "code",
   "execution_count": 4,
   "metadata": {},
   "outputs": [
    {
     "name": "stdout",
     "output_type": "stream",
     "text": [
      "Some sample content IDs ['299824032', '299865757', '299918857']\n",
      "The total number of articles is 15634\n"
     ]
    }
   ],
   "source": [
    "sql=\"\"\"\n",
    "#standardSQL\n",
    "\n",
    "SELECT (SELECT MAX(IF(index=10, value, NULL)) FROM UNNEST(hits.customDimensions)) AS content_id \n",
    "FROM `cloud-training-demos.GA360_test.ga_sessions_sample`, UNNEST(hits) AS hits\n",
    "WHERE hits.type = \"PAGE\"    # only include hits on pages\n",
    "AND (SELECT MAX(IF(index=10, value, NULL)) FROM UNNEST(hits.customDimensions)) IS NOT NULL\n",
    "GROUP BY content_id\n",
    "\"\"\"\n",
    "\n",
    "content_ids_list = bigquery.Client().query(sql).to_dataframe()['content_id'].tolist()\n",
    "write_list_to_disk(content_ids_list, \"content_ids.txt\")\n",
    "\n",
    "print(f\"Some sample content IDs {content_ids_list[:3]}\")\n",
    "print(f\"The total number of articles is {len(content_ids_list)}\")"
   ]
  },
  {
   "cell_type": "markdown",
   "metadata": {},
   "source": [
    "There should be 15,634 articles in the database.  \n",
    "\n",
    "Next, we'll create a local file which contains a list of article categories and a list of article authors.\n",
    "\n",
    "Note the change in the index when pulling the article category or author information.\n",
    "Refer back to the original dataset, use the `hits.customDimensions.index` field to verify the correct index.\t "
   ]
  },
  {
   "cell_type": "code",
   "execution_count": 5,
   "metadata": {},
   "outputs": [
    {
     "name": "stdout",
     "output_type": "stream",
     "text": [
      "['Lifestyle', 'News', 'Stars & Kultur']\n"
     ]
    }
   ],
   "source": [
    "sql=\"\"\"\n",
    "#standardSQL\n",
    "SELECT (SELECT MAX(IF(index=7, value, NULL)) FROM UNNEST(hits.customDimensions)) AS category  \n",
    "FROM `cloud-training-demos.GA360_test.ga_sessions_sample`, UNNEST(hits) AS hits\n",
    "WHERE hits.type = \"PAGE\"   # only include hits on pages\n",
    "AND (SELECT MAX(IF(index=7, value, NULL)) FROM UNNEST(hits.customDimensions)) IS NOT NULL\n",
    "GROUP BY category\n",
    "\"\"\"\n",
    "\n",
    "categories_list = bigquery.Client().query(sql).to_dataframe()['category'].tolist()\n",
    "write_list_to_disk(categories_list, \"categories.txt\")\n",
    "\n",
    "print(categories_list)"
   ]
  },
  {
   "cell_type": "markdown",
   "metadata": {},
   "source": [
    "The categories are 'News', 'Stars & Kultur', and 'Lifestyle'.  \n",
    "\n",
    "Now for the authot list.  \n",
    "When creating the author list, we'll only use the first author information for each article.   "
   ]
  },
  {
   "cell_type": "code",
   "execution_count": 6,
   "metadata": {},
   "outputs": [
    {
     "name": "stdout",
     "output_type": "stream",
     "text": [
      "Some sample authors ['Christina Michlits', 'Mathias Kainz', 'Thomas  Trescher', 'Stefan Berndl', 'Anita Kattinger', 'Martina Salomon', 'Marlene Patsalidis', 'Georg Leyrer', 'Elisabeth Spitzer', 'Elisabeth Sereda']\n",
      "The total number of authors is 385\n"
     ]
    }
   ],
   "source": [
    "sql=\"\"\"\n",
    "#standardSQL\n",
    "SELECT REGEXP_EXTRACT((SELECT MAX(IF(index=2, value, NULL)) FROM UNNEST(hits.customDimensions)), r\"^[^,]+\")  AS first_author  \n",
    "FROM `cloud-training-demos.GA360_test.ga_sessions_sample`, UNNEST(hits) AS hits\n",
    "WHERE hits.type = \"PAGE\"   # only include hits on pages\n",
    "AND (SELECT MAX(IF(index=2, value, NULL)) FROM UNNEST(hits.customDimensions)) IS NOT NULL\n",
    "GROUP BY first_author\n",
    "\"\"\"\n",
    "\n",
    "authors_list = bigquery.Client().query(sql).to_dataframe()['first_author'].tolist()\n",
    "write_list_to_disk(authors_list, \"authors.txt\")\n",
    "\n",
    "print(f\"Some sample authors {authors_list[:10]}\")\n",
    "print(f\"The total number of authors is {len(authors_list)}\")"
   ]
  },
  {
   "cell_type": "markdown",
   "metadata": {},
   "source": [
    "There should be 385 authors in the database. "
   ]
  },
  {
   "cell_type": "markdown",
   "metadata": {},
   "source": [
    "### Create train and test sets.\n",
    "\n",
    "In this section, we will create the train/test split of our data for training our model.  \n",
    "We use the concatenated values for visitor id and content id to create a _farm fingerprint_, taking approximately 90% of the data for the training set and 10% for the test set."
   ]
  },
  {
   "cell_type": "code",
   "execution_count": 7,
   "metadata": {},
   "outputs": [
    {
     "data": {
      "text/html": [
       "<div>\n",
       "<style scoped>\n",
       "    .dataframe tbody tr th:only-of-type {\n",
       "        vertical-align: middle;\n",
       "    }\n",
       "\n",
       "    .dataframe tbody tr th {\n",
       "        vertical-align: top;\n",
       "    }\n",
       "\n",
       "    .dataframe thead th {\n",
       "        text-align: right;\n",
       "    }\n",
       "</style>\n",
       "<table border=\"1\" class=\"dataframe\">\n",
       "  <thead>\n",
       "    <tr style=\"text-align: right;\">\n",
       "      <th></th>\n",
       "      <th>visitor_id</th>\n",
       "      <th>content_id</th>\n",
       "      <th>category</th>\n",
       "      <th>title</th>\n",
       "      <th>author</th>\n",
       "      <th>months_since_epoch</th>\n",
       "      <th>next_content_id</th>\n",
       "    </tr>\n",
       "  </thead>\n",
       "  <tbody>\n",
       "    <tr>\n",
       "      <th>0</th>\n",
       "      <td>1030878773401944300</td>\n",
       "      <td>299974496</td>\n",
       "      <td>News</td>\n",
       "      <td>Kurier TV-News: Die Baustelle Bildung</td>\n",
       "      <td>Stefan Berndl</td>\n",
       "      <td>574</td>\n",
       "      <td>299830996</td>\n",
       "    </tr>\n",
       "    <tr>\n",
       "      <th>1</th>\n",
       "      <td>1030878773401944300</td>\n",
       "      <td>299830996</td>\n",
       "      <td>News</td>\n",
       "      <td>Wie die Schule in der Neuzeit ankommen könnte</td>\n",
       "      <td>Martina Salomon</td>\n",
       "      <td>574</td>\n",
       "      <td>299901255</td>\n",
       "    </tr>\n",
       "    <tr>\n",
       "      <th>2</th>\n",
       "      <td>1045356747303546594</td>\n",
       "      <td>299792812</td>\n",
       "      <td>News</td>\n",
       "      <td>Bundesliga: Kein Videobeweis beim Schlager Rap...</td>\n",
       "      <td>None</td>\n",
       "      <td>574</td>\n",
       "      <td>299779564</td>\n",
       "    </tr>\n",
       "    <tr>\n",
       "      <th>3</th>\n",
       "      <td>1045356747303546594</td>\n",
       "      <td>299779564</td>\n",
       "      <td>Stars &amp; Kultur</td>\n",
       "      <td>Geschenk: Nicole Kidman bekommt Traumhaus um 4...</td>\n",
       "      <td>Elisabeth Spitzer</td>\n",
       "      <td>574</td>\n",
       "      <td>299809748</td>\n",
       "    </tr>\n",
       "    <tr>\n",
       "      <th>4</th>\n",
       "      <td>104581626240810883</td>\n",
       "      <td>299982579</td>\n",
       "      <td>News</td>\n",
       "      <td>VIDEO: Basejumper springen von Berg in Flugzeug</td>\n",
       "      <td>Mathias Kainz</td>\n",
       "      <td>574</td>\n",
       "      <td>299935287</td>\n",
       "    </tr>\n",
       "    <tr>\n",
       "      <th>5</th>\n",
       "      <td>1065940605821174786</td>\n",
       "      <td>299173332</td>\n",
       "      <td>Stars &amp; Kultur</td>\n",
       "      <td>Verändert: So sehen die 80er-Stars heute aus</td>\n",
       "      <td>Christina Michlits</td>\n",
       "      <td>574</td>\n",
       "      <td>299775963</td>\n",
       "    </tr>\n",
       "    <tr>\n",
       "      <th>6</th>\n",
       "      <td>1065940605821174786</td>\n",
       "      <td>299775963</td>\n",
       "      <td>News</td>\n",
       "      <td>Trump: Der letzte Verteidiger von Roy Moore</td>\n",
       "      <td>Thomas  Trescher</td>\n",
       "      <td>574</td>\n",
       "      <td>299798467</td>\n",
       "    </tr>\n",
       "  </tbody>\n",
       "</table>\n",
       "</div>"
      ],
      "text/plain": [
       "            visitor_id content_id        category  \\\n",
       "0  1030878773401944300  299974496            News   \n",
       "1  1030878773401944300  299830996            News   \n",
       "2  1045356747303546594  299792812            News   \n",
       "3  1045356747303546594  299779564  Stars & Kultur   \n",
       "4   104581626240810883  299982579            News   \n",
       "5  1065940605821174786  299173332  Stars & Kultur   \n",
       "6  1065940605821174786  299775963            News   \n",
       "\n",
       "                                               title              author  \\\n",
       "0              Kurier TV-News: Die Baustelle Bildung       Stefan Berndl   \n",
       "1      Wie die Schule in der Neuzeit ankommen könnte     Martina Salomon   \n",
       "2  Bundesliga: Kein Videobeweis beim Schlager Rap...                None   \n",
       "3  Geschenk: Nicole Kidman bekommt Traumhaus um 4...   Elisabeth Spitzer   \n",
       "4    VIDEO: Basejumper springen von Berg in Flugzeug       Mathias Kainz   \n",
       "5       Verändert: So sehen die 80er-Stars heute aus  Christina Michlits   \n",
       "6        Trump: Der letzte Verteidiger von Roy Moore    Thomas  Trescher   \n",
       "\n",
       "   months_since_epoch next_content_id  \n",
       "0                 574       299830996  \n",
       "1                 574       299901255  \n",
       "2                 574       299779564  \n",
       "3                 574       299809748  \n",
       "4                 574       299935287  \n",
       "5                 574       299775963  \n",
       "6                 574       299798467  "
      ]
     },
     "execution_count": 7,
     "metadata": {},
     "output_type": "execute_result"
    }
   ],
   "source": [
    "sql=\"\"\"\n",
    "WITH site_history as (\n",
    "  SELECT fullVisitorId as visitor_id,\n",
    "    (SELECT MAX(IF(index=10, value, NULL)) FROM UNNEST(hits.customDimensions)) AS content_id,\n",
    "    (SELECT MAX(IF(index=7, value, NULL)) FROM UNNEST(hits.customDimensions)) AS category, \n",
    "    (SELECT MAX(IF(index=6, value, NULL)) FROM UNNEST(hits.customDimensions)) AS title,\n",
    "    (SELECT MAX(IF(index=2, value, NULL)) FROM UNNEST(hits.customDimensions)) AS author_list,\n",
    "    SPLIT(RPAD((SELECT MAX(IF(index=4, value, NULL)) FROM UNNEST(hits.customDimensions)), 7), '.') as year_month_array,\n",
    "    LEAD(hits.customDimensions, 1) OVER (PARTITION BY fullVisitorId ORDER BY hits.time ASC) as nextCustomDimensions\n",
    "  FROM `cloud-training-demos.GA360_test.ga_sessions_sample`, UNNEST(hits) AS hits\n",
    "  WHERE hits.type = \"PAGE\" # only include hits on pages\n",
    "  AND fullVisitorId IS NOT NULL\n",
    "  AND hits.time != 0\n",
    "  AND hits.time IS NOT NULL\n",
    "  AND (SELECT MAX(IF(index=10, value, NULL)) FROM UNNEST(hits.customDimensions)) IS NOT NULL\n",
    ")\n",
    "SELECT visitor_id, content_id, category, REGEXP_REPLACE(title, r\",\", \"\") as title, REGEXP_EXTRACT(author_list, r\"^[^,]+\") as author,\n",
    "  DATE_DIFF(DATE(CAST(year_month_array[OFFSET(0)] AS INT64), CAST(year_month_array[OFFSET(1)] AS INT64), 1), DATE(1970, 1, 1), MONTH) as months_since_epoch,\n",
    "  (SELECT MAX(IF(index=10, value, NULL)) FROM UNNEST(nextCustomDimensions)) as next_content_id\n",
    "FROM site_history\n",
    "WHERE (SELECT MAX(IF(index=10, value, NULL)) FROM UNNEST(nextCustomDimensions)) IS NOT NULL\n",
    "AND ABS(MOD(FARM_FINGERPRINT(CONCAT(visitor_id, content_id)), 10)) < 9\n",
    "\"\"\"\n",
    "\n",
    "training_set_df = bigquery.Client().query(sql).to_dataframe()\n",
    "training_set_df.to_csv('training_set.csv', header=False, index=False, encoding='utf-8')\n",
    "training_set_df.head(7)"
   ]
  },
  {
   "cell_type": "code",
   "execution_count": 8,
   "metadata": {},
   "outputs": [
    {
     "data": {
      "text/html": [
       "<div>\n",
       "<style scoped>\n",
       "    .dataframe tbody tr th:only-of-type {\n",
       "        vertical-align: middle;\n",
       "    }\n",
       "\n",
       "    .dataframe tbody tr th {\n",
       "        vertical-align: top;\n",
       "    }\n",
       "\n",
       "    .dataframe thead th {\n",
       "        text-align: right;\n",
       "    }\n",
       "</style>\n",
       "<table border=\"1\" class=\"dataframe\">\n",
       "  <thead>\n",
       "    <tr style=\"text-align: right;\">\n",
       "      <th></th>\n",
       "      <th>visitor_id</th>\n",
       "      <th>content_id</th>\n",
       "      <th>category</th>\n",
       "      <th>title</th>\n",
       "      <th>author</th>\n",
       "      <th>months_since_epoch</th>\n",
       "      <th>next_content_id</th>\n",
       "    </tr>\n",
       "  </thead>\n",
       "  <tbody>\n",
       "    <tr>\n",
       "      <th>0</th>\n",
       "      <td>1415632513742447264</td>\n",
       "      <td>299777722</td>\n",
       "      <td>Stars &amp; Kultur</td>\n",
       "      <td>Willow Smith: \"Es ist schrecklich so aufzuwach...</td>\n",
       "      <td>Elisabeth Spitzer</td>\n",
       "      <td>574</td>\n",
       "      <td>299777082</td>\n",
       "    </tr>\n",
       "    <tr>\n",
       "      <th>1</th>\n",
       "      <td>171240914473388761</td>\n",
       "      <td>299831571</td>\n",
       "      <td>News</td>\n",
       "      <td>Chinesen investieren 3 Mrd. Euro in Osteuropa</td>\n",
       "      <td>Peter Temel</td>\n",
       "      <td>574</td>\n",
       "      <td>299915880</td>\n",
       "    </tr>\n",
       "    <tr>\n",
       "      <th>2</th>\n",
       "      <td>1917946462475400228</td>\n",
       "      <td>77853842</td>\n",
       "      <td>News</td>\n",
       "      <td>Mängel dokumentieren und Streit vermeiden</td>\n",
       "      <td>Ursula Horvath</td>\n",
       "      <td>535</td>\n",
       "      <td>284769185</td>\n",
       "    </tr>\n",
       "    <tr>\n",
       "      <th>3</th>\n",
       "      <td>1917946462475400228</td>\n",
       "      <td>284769185</td>\n",
       "      <td>News</td>\n",
       "      <td>Nachfolger gesucht: Koller vor dem Abgang</td>\n",
       "      <td>Andreas Heidenreich</td>\n",
       "      <td>572</td>\n",
       "      <td>287515242</td>\n",
       "    </tr>\n",
       "    <tr>\n",
       "      <th>4</th>\n",
       "      <td>1917946462475400228</td>\n",
       "      <td>223645183</td>\n",
       "      <td>News</td>\n",
       "      <td>Gerümpel im Hausflur: Wer zahlt die Entsorgung?</td>\n",
       "      <td>Claudia Elmer</td>\n",
       "      <td>561</td>\n",
       "      <td>223645183</td>\n",
       "    </tr>\n",
       "    <tr>\n",
       "      <th>5</th>\n",
       "      <td>1917946462475400228</td>\n",
       "      <td>223645183</td>\n",
       "      <td>News</td>\n",
       "      <td>Gerümpel im Hausflur: Wer zahlt die Entsorgung?</td>\n",
       "      <td>Claudia Elmer</td>\n",
       "      <td>561</td>\n",
       "      <td>273295418</td>\n",
       "    </tr>\n",
       "    <tr>\n",
       "      <th>6</th>\n",
       "      <td>1917946462475400228</td>\n",
       "      <td>223645183</td>\n",
       "      <td>News</td>\n",
       "      <td>Gerümpel im Hausflur: Wer zahlt die Entsorgung?</td>\n",
       "      <td>Claudia Elmer</td>\n",
       "      <td>561</td>\n",
       "      <td>284332710</td>\n",
       "    </tr>\n",
       "  </tbody>\n",
       "</table>\n",
       "</div>"
      ],
      "text/plain": [
       "            visitor_id content_id        category  \\\n",
       "0  1415632513742447264  299777722  Stars & Kultur   \n",
       "1   171240914473388761  299831571            News   \n",
       "2  1917946462475400228   77853842            News   \n",
       "3  1917946462475400228  284769185            News   \n",
       "4  1917946462475400228  223645183            News   \n",
       "5  1917946462475400228  223645183            News   \n",
       "6  1917946462475400228  223645183            News   \n",
       "\n",
       "                                               title               author  \\\n",
       "0  Willow Smith: \"Es ist schrecklich so aufzuwach...    Elisabeth Spitzer   \n",
       "1      Chinesen investieren 3 Mrd. Euro in Osteuropa          Peter Temel   \n",
       "2          Mängel dokumentieren und Streit vermeiden       Ursula Horvath   \n",
       "3          Nachfolger gesucht: Koller vor dem Abgang  Andreas Heidenreich   \n",
       "4    Gerümpel im Hausflur: Wer zahlt die Entsorgung?        Claudia Elmer   \n",
       "5    Gerümpel im Hausflur: Wer zahlt die Entsorgung?        Claudia Elmer   \n",
       "6    Gerümpel im Hausflur: Wer zahlt die Entsorgung?        Claudia Elmer   \n",
       "\n",
       "   months_since_epoch next_content_id  \n",
       "0                 574       299777082  \n",
       "1                 574       299915880  \n",
       "2                 535       284769185  \n",
       "3                 572       287515242  \n",
       "4                 561       223645183  \n",
       "5                 561       273295418  \n",
       "6                 561       284332710  "
      ]
     },
     "execution_count": 8,
     "metadata": {},
     "output_type": "execute_result"
    }
   ],
   "source": [
    "sql=\"\"\"\n",
    "WITH site_history as (\n",
    "  SELECT fullVisitorId as visitor_id,\n",
    "    (SELECT MAX(IF(index=10, value, NULL)) FROM UNNEST(hits.customDimensions)) AS content_id,\n",
    "    (SELECT MAX(IF(index=7, value, NULL)) FROM UNNEST(hits.customDimensions)) AS category, \n",
    "    (SELECT MAX(IF(index=6, value, NULL)) FROM UNNEST(hits.customDimensions)) AS title,\n",
    "    (SELECT MAX(IF(index=2, value, NULL)) FROM UNNEST(hits.customDimensions)) AS author_list,\n",
    "    SPLIT(RPAD((SELECT MAX(IF(index=4, value, NULL)) FROM UNNEST(hits.customDimensions)), 7), '.') as year_month_array,\n",
    "    LEAD(hits.customDimensions, 1) OVER (PARTITION BY fullVisitorId ORDER BY hits.time ASC) as nextCustomDimensions\n",
    "  FROM `cloud-training-demos.GA360_test.ga_sessions_sample`, UNNEST(hits) AS hits\n",
    "  WHERE hits.type = \"PAGE\"  # only include hits on pages\n",
    "  AND fullVisitorId IS NOT NULL\n",
    "  AND hits.time != 0\n",
    "  AND hits.time IS NOT NULL\n",
    "  AND (SELECT MAX(IF(index=10, value, NULL)) FROM UNNEST(hits.customDimensions)) IS NOT NULL\n",
    ")\n",
    "SELECT visitor_id, content_id, category, REGEXP_REPLACE(title, r\",\", \"\") as title, REGEXP_EXTRACT(author_list, r\"^[^,]+\") as author,\n",
    "  DATE_DIFF(DATE(CAST(year_month_array[OFFSET(0)] AS INT64), CAST(year_month_array[OFFSET(1)] AS INT64), 1), DATE(1970,1,1), MONTH) as months_since_epoch,\n",
    "  (SELECT MAX(IF(index=10, value, NULL)) FROM UNNEST(nextCustomDimensions)) as next_content_id\n",
    "FROM site_history\n",
    "WHERE (SELECT MAX(IF(index=10, value, NULL)) FROM UNNEST(nextCustomDimensions)) IS NOT NULL\n",
    "AND ABS(MOD(FARM_FINGERPRINT(CONCAT(visitor_id, content_id)), 10)) >= 9\n",
    "\"\"\"\n",
    "\n",
    "test_set_df = bigquery.Client().query(sql).to_dataframe()\n",
    "test_set_df.to_csv('test_set.csv', header=False, index=False, encoding='utf-8')\n",
    "test_set_df.head(7)"
   ]
  },
  {
   "cell_type": "markdown",
   "metadata": {},
   "source": [
    "Let's have a look at the two csv files we just created containing the training and test set. We'll also do a line count of both files to confirm that we have achieved an approximate 90/10 train/test split.  \n",
    "In the next notebook, **Content Based Filtering** we will build a model to recommend an article given information about the current article being read, such as the category, title, author, and publish date. "
   ]
  },
  {
   "cell_type": "code",
   "execution_count": 9,
   "metadata": {},
   "outputs": [
    {
     "name": "stdout",
     "output_type": "stream",
     "text": [
      "   25599 test_set.csv\n",
      "  232308 training_set.csv\n",
      "  257907 total\n"
     ]
    }
   ],
   "source": [
    "%%bash\n",
    "wc -l *_set.csv"
   ]
  },
  {
   "cell_type": "code",
   "execution_count": 10,
   "metadata": {},
   "outputs": [
    {
     "name": "stdout",
     "output_type": "stream",
     "text": [
      "==> test_set.csv <==\n",
      "1415632513742447264,299777722,Stars & Kultur,\"Willow Smith: \"\"Es ist schrecklich so aufzuwachsen\"\"\",Elisabeth Spitzer,574,299777082\n",
      "171240914473388761,299831571,News,Chinesen investieren 3 Mrd. Euro in Osteuropa,Peter Temel,574,299915880\n",
      "1917946462475400228,77853842,News,Mängel dokumentieren und Streit vermeiden,Ursula Horvath,535,284769185\n",
      "1917946462475400228,284769185,News,Nachfolger gesucht: Koller vor dem Abgang,Andreas Heidenreich,572,287515242\n",
      "1917946462475400228,223645183,News,Gerümpel im Hausflur: Wer zahlt die Entsorgung?,Claudia Elmer,561,223645183\n",
      "1917946462475400228,223645183,News,Gerümpel im Hausflur: Wer zahlt die Entsorgung?,Claudia Elmer,561,273295418\n",
      "1917946462475400228,223645183,News,Gerümpel im Hausflur: Wer zahlt die Entsorgung?,Claudia Elmer,561,284332710\n",
      "\n",
      "==> training_set.csv <==\n",
      "1030878773401944300,299974496,News,Kurier TV-News: Die Baustelle Bildung,Stefan Berndl,574,299830996\n",
      "1030878773401944300,299830996,News,Wie die Schule in der Neuzeit ankommen könnte,Martina Salomon,574,299901255\n",
      "1045356747303546594,299792812,News,Bundesliga: Kein Videobeweis beim Schlager Rapid-Salzburg,,574,299779564\n",
      "1045356747303546594,299779564,Stars & Kultur,Geschenk: Nicole Kidman bekommt Traumhaus um 40 Mio. Dollar ,Elisabeth Spitzer,574,299809748\n",
      "104581626240810883,299982579,News,VIDEO: Basejumper springen von Berg in Flugzeug,Mathias Kainz,574,299935287\n",
      "1065940605821174786,299173332,Stars & Kultur,Verändert: So sehen die 80er-Stars heute aus,Christina Michlits,574,299775963\n",
      "1065940605821174786,299775963,News,Trump: Der letzte Verteidiger von Roy Moore,Thomas  Trescher,574,299798467\n"
     ]
    }
   ],
   "source": [
    "!head -7 *_set.csv"
   ]
  }
 ],
 "metadata": {
  "environment": {
   "kernel": "python3",
   "name": "tf-gpu.1-15.m91",
   "type": "gcloud",
   "uri": "gcr.io/deeplearning-platform-release/tf-gpu.1-15:m91"
  },
  "kernelspec": {
   "display_name": "Python 3",
   "language": "python",
   "name": "python3"
  },
  "language_info": {
   "codemirror_mode": {
    "name": "ipython",
    "version": 3
   },
   "file_extension": ".py",
   "mimetype": "text/x-python",
   "name": "python",
   "nbconvert_exporter": "python",
   "pygments_lexer": "ipython3",
   "version": "3.7.12"
  }
 },
 "nbformat": 4,
 "nbformat_minor": 4
}
